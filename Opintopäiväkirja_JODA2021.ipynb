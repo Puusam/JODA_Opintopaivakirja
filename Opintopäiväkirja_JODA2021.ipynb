{
 "cells": [
  {
   "cell_type": "markdown",
   "metadata": {},
   "source": [
    "# Opintopäiväkirja JODA 2021\n",
    "\n",
    "## Miko Puusa, 245951\n",
    "\n",
    "### Tässä opintopäiväkirjassa pyritään reflektoimaan kirjoittajan oppimista opintojaksolta Johdanto datatieteeseen 2021. \n",
    "\n",
    "_______________________________________________________________________"
   ]
  },
  {
   "attachments": {},
   "cell_type": "markdown",
   "metadata": {},
   "source": [
    "#### Luentoviikko 1: Johdanto aihepiiriin ja suorittaminen\n",
    "##### (En osallistunut opetukseen)\n",
    "\n",
    "Ensimmäisellä luentoviikolla käsiteltiin suorittamisen käytäntöjä sekä johdateltiin kurssin aiheeseen ja siihen mitä datatieteilijän työ on käytännössä. Tämän lisäksi käytiin läpi peruskäsitteistöä aiheeseen liittyen.\n",
    "\n",
    "Itse odotan kurssilta, että opin perusteita datatieteen työkaluista käytännössä ja täydennän tuota osaamista datatieteen teorialla. Ennakkoon vaikuttaisi siltä, että kurssi vastaa näitä odotuksiani. Koen että aiemmat opintoni ovat antaneet tietoa siitä mitä hyötyjä (=jalostaa käytännössä loputon saatavilla oleva data päätöksenteon tueksi) datatieteellä voidaan saavuttaa ja miten informaatioanalytiikka tai tarkemmin datatiede voi tukea liiketoimintaa. Käytännön osaamiseni datatieteen saralta on kuitenkin melko vähäisellä tasolla. Osaan perusteet ohjelmoinnista Pythonilla sekä C++:lla, mutta informaatioanalytiikan saralla osaamiseni rajoittuu Business Intelligence - työkaluihin kuten Power BIhin ja Tableau:un, joita käytän myös jonkin verran työssäni. Toivonkin että tältä kurssilta saisin valmiuksia kokeilla myös lisätä enemmän analyyttisiä ja tieteellisiä metodeja BI työkalujen rinnalle, sillä näistä saatu hyöty on liittynyt enemmän vain tiedon visualisointiin. Koen kuitenkin että melko vahva osaaminen noista BI työkaluista tukee oppimistani ja ymmärrän melko hyvin esimerkiksi datan laadun vaikutukset analytiikan onnistumiseen. Reflektoiden Modern data scientist - kuvaan (https://www.schoolofdatascience.amsterdam/news/skills-need-become-modern-data-scientist/) voisikin sanoa että omat vahvuuteni ovat työssäni Domain knowledge & Soft skills sekä Communication & Visualization alueilla. Tunnenkin että kaikki ohjelmoinnin ja tilastotieteen saralta saadut taidot auttavat minua ymmärtämään paremmin datatiedettä kokonaisuudessaan. \n",
    "\n",
    "\n",
    "![Image of CRISP_DM](https://smartvision-me.com/wp-content/uploads/2019/08/crisp-dm.png)\n",
    "\n",
    "###### Image Source: https://smartvision-me.com/wp-content/uploads/2019/08/crisp-dm.png\n",
    "\n",
    "Yksi luennon aiheista liittyi jo aiemmin näkemääni CRISP-DM (Cross-industry standard process for data mining) viitekehykseen. Tämä viitekehys antaa perusrakenteen ja ylätason prosessimallin datan keräämiseen, jalostukseen ja hyödyntämiseen. Oman kokemukseni ja oppieni mukaan usein ongelmia saattaa tuottaa se, että datatieteen tarpeen lähtökohta yrityksessä ei olekaan \"Business Understanding\" vaan se että saatavilla ERP-rajoitusten mukaan on tietty data, jonka perusteella mietitään analytiikan käyttötarkoituksia. Lähtökohdan pitäisi mielestäni olla se, että nähdään jokin tiedon tarve liiketoiminnassa, joka ohjaa sitten datan ymmärrystä, valmistelua ja jalostusta yms. Selvää on kuitenkin se, että usein jalostetun datan tarkastelu ja visualisointi saattaa kuitenkin paljastaa hyödyllisiä asioita mitä ei ennen nähty tarpeellisena. \n",
    "\n",
    "Alla harjoitustyötä varten esimerkki datan keräämisestä luennon ja koodiklinikan materiaalien tukemana:"
   ]
  },
  {
   "cell_type": "code",
   "execution_count": 1,
   "metadata": {},
   "outputs": [
    {
     "name": "stdout",
     "output_type": "stream",
     "text": [
      "id\n",
      "name\n",
      "host_id\n",
      "host_name\n",
      "neighbourhood_group\n",
      "neighbourhood\n",
      "latitude\n",
      "longitude\n",
      "room_type\n",
      "price\n",
      "minimum_nights\n",
      "number_of_reviews\n",
      "last_review\n",
      "reviews_per_month\n",
      "calculated_host_listings_count\n",
      "availability_365\n"
     ]
    }
   ],
   "source": [
    "\n",
    "#Tuodaan pandakirjasto\n",
    "import pandas as pd\n",
    "\n",
    "#Määritellään datan lähde URL\n",
    "url = 'http://data.insideairbnb.com/spain/catalonia/barcelona/2021-02-09/visualisations/listings.csv'\n",
    "\n",
    "df = pd.read_csv(url)\n",
    "\n",
    "for col in df.columns:\n",
    "    print(col)"
   ]
  },
  {
   "cell_type": "code",
   "execution_count": 2,
   "metadata": {},
   "outputs": [
    {
     "name": "stdout",
     "output_type": "stream",
     "text": [
      "      id                                             name  price  \\\n",
      "0  18674  Huge flat for 8 people close to Sagrada Familia    116   \n",
      "1  21974               Comf. double room/private bathroom     80   \n",
      "2  23197  Forum DeLuxe 5 mins Walk  To CCIB Center & Sea★    200   \n",
      "3  32711                 Sagrada Familia area - Còrsega 1     79   \n",
      "4  34241                 Private Double room - Plaza Real     40   \n",
      "\n",
      "   reviews_per_month         host_name  \n",
      "0               0.22  Mireia And Maria  \n",
      "1               0.04            Andres  \n",
      "2               0.43    Etain (Marnie)  \n",
      "3               0.54              Nick  \n",
      "4               0.06            Andres  \n"
     ]
    }
   ],
   "source": [
    "# Valitaan vain 5 datakolumnia\n",
    "df = df[['id'\n",
    "        ,'name'\n",
    "        ,'price'\n",
    "        ,'reviews_per_month'\n",
    "        ,'host_name'\n",
    "        ]]\n",
    "#printataan testinä viisi ensimmäistä riviä\n",
    "print(df.head())"
   ]
  },
  {
   "cell_type": "markdown",
   "metadata": {},
   "source": [
    "Lopuksi vielä viisi oivallusta/oppia: \n",
    "\n",
    "1. Simppelin datatieteen aloittaminen on oikeastaan melko helppoa. \n",
    "2. Erilaisia matalan kynnyksen työkaluja datatieteen tarkoituksiin on hurja määrä\n",
    "3. Scikit-learn työkalun viitekehys näyttää selkeältä!\n",
    "4. Crisp DM tarjoaa hyvän viitekehyksen datatieteelle - pitää muistaa tarve liiketoiminnasta!\n",
    "5. Tajusin osaavani ja melko hyvin datatieteen \"pehmeitä\" taitoja \n",
    "\n",
    "Lisäksi kehityskohde: \n",
    "\n",
    "1. Kurssirakenteen ymmärtäminen on aluksi melko vaikeaa - mikä on moodlen/slackin/githubin rooli. Tähän selkeyttä tai työkalujen karsiminen auttaisi. \n",
    "\n",
    "_________________________________________________"
   ]
  },
  {
   "cell_type": "markdown",
   "metadata": {},
   "source": [
    "#### Luentoviikko 2: Datan kerääminen ja jalostaminen\n",
    "\n",
    "###### (En osallistunut opetukseen)\n",
    "\n",
    "Toisella luentoviikolla aihepiiri liittyi datan keräämiseen ja jalostamiseen käyttöön sopivaksi. Jos tarkastellaan data science workflowta (Guo, 2013) - data preparation on luonnollisesti ensimmäinen vaihe. Siihen kuuluu datan hankinta/kerääminen ja sen jalostaminen ja siistiminen. Lyhyen työurani aikana tähän mennessä datan kerääminen on ollut sellainen vaihe, joka on ollut omalta osaltani helppoa. Esimerkiksi nykyisessä työssäni Power BIllä raportteja työstäessäni olen voinut suoraan Power BIn SQL server haulla ottaa yhteyden Power BItä varten luotuihin kerran päivässä päivittyviin datatauluihin, joiden datan siistimiseen on riittänyt Power BIn tarjoamat data transformation - työkalut. Kuitenkin vastaisuutta ajatellen datan kerääminen ja jalostaminen on sellainen mikä olisi hyvä osata paremmin, sillä vastaavaa järjestelyä ei aina ole saatavilla. Vaikka koenkin että vahvuuteni tulevat aina olemaan ns. datatieteen \"pehmeissä\" osa-alueissa (data visualization + soft skills), haluan oppia paremmaksi myös ohjelmoinnissa + tilastotieteessä jotten lokeroi itseäni liian vahvasti yhteen osa-alueeseen. \n",
    "\n",
    "Mielestäni tärkeä pointti datan hankinnassa on Guon (2013) blogissa mainitsema datan alkuperän selvittäminen. Ei yksinään riitä, että jotakin dataa on saatavilla kyseiseen hetkeen - on varmistettava että miten datalähde mahdollisesti päivittyy eli voidaanko kyseistä lähdettä käyttää myös jatkossa. APIen käyttö sekä pilviympäristöt ovat varmasti osittain ratkaisseet tätä ongelmaa. \n",
    "\n",
    "Osittain vastaavaan asiaan liittyy Granvillen (2014) blogipostauksessa mainitun DAD (Discover, Access, Distill) prosessin Discover vaihe. Granville kuvaa DAD prosessin olevan juuri datatieteilijöille ominainen prosessi, kun taas data engineerit käyttävät ETL prosessia. Tämä ero johtuu Granvillen mukaan siitä että data engineerit tähtäävät siihen että data virtaa sulavasti ja oikeassa muodossa lähteestä sen kohteeseen josta siitä jalostetaan tietoa päätöksenteon tueksi. Tämä jalostus taas on datatieteilijöiden työtä. DADin Discover vaiheessa siis datatietelijä käytännössä etsii liiketoiminnan tietotarpeisiin sopivan datasetin, joka joskus pitää myös luoda tarpeiden mukaisesti. \n",
    "\n",
    "Itse datan keräämisen käytännön vinkkeihin, koen että voisin asiassa edetessäni miettiä Raapijan tai ryömijän käyttämistä datan keräämiseen. Koen että sellaisen avulla voisi saada helposti dataa netistä. Mutta tällä hetkellä tuntuu että haluan vielä osata paremmin perusteet ja harjoitella enemmän valmiilla datasetillä. Tähän tarkoitukseen näen että Pandas cheat sheet voisi tarjota paljonkin apua: https://s3.amazonaws.com/assets.datacamp.com/blog_assets/Python_Pandas_Cheat_Sheet_2.pdf. Varsinkin tällaiselle vasta-alkajalle tuollainen setti helposti ymmärrettäviä ohjeita on elintärkeä. \n",
    "\n",
    "Lähteet:\n",
    "\n",
    "Philip Guo, 2013. Data Science Workflow: Overview and Challenges. Retrieved from: https://cacm.acm.org/blogs/blog-cacm/169199-data-science-workflow-overview-and-challenges/fulltext\n",
    "\n",
    "Vincent Granville, 2014. Data Scientist versus Data Engineer. Retrieved from: https://www.datasciencecentral.com/profiles/blogs/data-scientist-versus-data-engineer\n",
    "\n",
    "\n",
    "Alla tällä viikolla aiheesta opittua: "
   ]
  },
  {
   "cell_type": "code",
   "execution_count": 3,
   "metadata": {},
   "outputs": [
    {
     "data": {
      "text/html": [
       "<div>\n",
       "<style scoped>\n",
       "    .dataframe tbody tr th:only-of-type {\n",
       "        vertical-align: middle;\n",
       "    }\n",
       "\n",
       "    .dataframe tbody tr th {\n",
       "        vertical-align: top;\n",
       "    }\n",
       "\n",
       "    .dataframe thead th {\n",
       "        text-align: right;\n",
       "    }\n",
       "</style>\n",
       "<table border=\"1\" class=\"dataframe\">\n",
       "  <thead>\n",
       "    <tr style=\"text-align: right;\">\n",
       "      <th></th>\n",
       "      <th>id</th>\n",
       "      <th>name</th>\n",
       "      <th>host_id</th>\n",
       "      <th>host_name</th>\n",
       "      <th>neighbourhood_group</th>\n",
       "      <th>neighbourhood</th>\n",
       "      <th>latitude</th>\n",
       "      <th>longitude</th>\n",
       "      <th>room_type</th>\n",
       "      <th>price</th>\n",
       "      <th>minimum_nights</th>\n",
       "      <th>number_of_reviews</th>\n",
       "      <th>last_review</th>\n",
       "      <th>reviews_per_month</th>\n",
       "      <th>calculated_host_listings_count</th>\n",
       "      <th>availability_365</th>\n",
       "    </tr>\n",
       "  </thead>\n",
       "  <tbody>\n",
       "    <tr>\n",
       "      <th>0</th>\n",
       "      <td>18674</td>\n",
       "      <td>Huge flat for 8 people close to Sagrada Familia</td>\n",
       "      <td>71615</td>\n",
       "      <td>Mireia And Maria</td>\n",
       "      <td>Eixample</td>\n",
       "      <td>la Sagrada Família</td>\n",
       "      <td>41.40420</td>\n",
       "      <td>2.17306</td>\n",
       "      <td>Entire home/apt</td>\n",
       "      <td>116</td>\n",
       "      <td>1</td>\n",
       "      <td>21</td>\n",
       "      <td>2019-11-01</td>\n",
       "      <td>0.22</td>\n",
       "      <td>19</td>\n",
       "      <td>80</td>\n",
       "    </tr>\n",
       "    <tr>\n",
       "      <th>1</th>\n",
       "      <td>21974</td>\n",
       "      <td>Comf. double room/private bathroom</td>\n",
       "      <td>73163</td>\n",
       "      <td>Andres</td>\n",
       "      <td>Ciutat Vella</td>\n",
       "      <td>el Barri Gòtic</td>\n",
       "      <td>41.37973</td>\n",
       "      <td>2.17631</td>\n",
       "      <td>Private room</td>\n",
       "      <td>80</td>\n",
       "      <td>3</td>\n",
       "      <td>2</td>\n",
       "      <td>2017-11-06</td>\n",
       "      <td>0.04</td>\n",
       "      <td>3</td>\n",
       "      <td>69</td>\n",
       "    </tr>\n",
       "    <tr>\n",
       "      <th>2</th>\n",
       "      <td>23197</td>\n",
       "      <td>Forum DeLuxe 5 mins Walk  To CCIB Center &amp; Sea★</td>\n",
       "      <td>90417</td>\n",
       "      <td>Etain (Marnie)</td>\n",
       "      <td>Sant Martí</td>\n",
       "      <td>el Besòs i el Maresme</td>\n",
       "      <td>41.41291</td>\n",
       "      <td>2.22063</td>\n",
       "      <td>Entire home/apt</td>\n",
       "      <td>200</td>\n",
       "      <td>3</td>\n",
       "      <td>52</td>\n",
       "      <td>2019-12-15</td>\n",
       "      <td>0.43</td>\n",
       "      <td>2</td>\n",
       "      <td>326</td>\n",
       "    </tr>\n",
       "    <tr>\n",
       "      <th>3</th>\n",
       "      <td>32711</td>\n",
       "      <td>Sagrada Familia area - Còrsega 1</td>\n",
       "      <td>135703</td>\n",
       "      <td>Nick</td>\n",
       "      <td>Gràcia</td>\n",
       "      <td>el Camp d'en Grassot i Gràcia Nova</td>\n",
       "      <td>41.40566</td>\n",
       "      <td>2.17015</td>\n",
       "      <td>Entire home/apt</td>\n",
       "      <td>79</td>\n",
       "      <td>2</td>\n",
       "      <td>63</td>\n",
       "      <td>2020-02-22</td>\n",
       "      <td>0.54</td>\n",
       "      <td>5</td>\n",
       "      <td>0</td>\n",
       "    </tr>\n",
       "    <tr>\n",
       "      <th>4</th>\n",
       "      <td>34241</td>\n",
       "      <td>Private Double room - Plaza Real</td>\n",
       "      <td>73163</td>\n",
       "      <td>Andres</td>\n",
       "      <td>Ciutat Vella</td>\n",
       "      <td>el Barri Gòtic</td>\n",
       "      <td>41.37916</td>\n",
       "      <td>2.17535</td>\n",
       "      <td>Private room</td>\n",
       "      <td>40</td>\n",
       "      <td>30</td>\n",
       "      <td>8</td>\n",
       "      <td>2013-07-15</td>\n",
       "      <td>0.06</td>\n",
       "      <td>3</td>\n",
       "      <td>40</td>\n",
       "    </tr>\n",
       "  </tbody>\n",
       "</table>\n",
       "</div>"
      ],
      "text/plain": [
       "      id                                             name  host_id  \\\n",
       "0  18674  Huge flat for 8 people close to Sagrada Familia    71615   \n",
       "1  21974               Comf. double room/private bathroom    73163   \n",
       "2  23197  Forum DeLuxe 5 mins Walk  To CCIB Center & Sea★    90417   \n",
       "3  32711                 Sagrada Familia area - Còrsega 1   135703   \n",
       "4  34241                 Private Double room - Plaza Real    73163   \n",
       "\n",
       "          host_name neighbourhood_group                       neighbourhood  \\\n",
       "0  Mireia And Maria            Eixample                  la Sagrada Família   \n",
       "1            Andres        Ciutat Vella                      el Barri Gòtic   \n",
       "2    Etain (Marnie)          Sant Martí               el Besòs i el Maresme   \n",
       "3              Nick              Gràcia  el Camp d'en Grassot i Gràcia Nova   \n",
       "4            Andres        Ciutat Vella                      el Barri Gòtic   \n",
       "\n",
       "   latitude  longitude        room_type  price  minimum_nights  \\\n",
       "0  41.40420    2.17306  Entire home/apt    116               1   \n",
       "1  41.37973    2.17631     Private room     80               3   \n",
       "2  41.41291    2.22063  Entire home/apt    200               3   \n",
       "3  41.40566    2.17015  Entire home/apt     79               2   \n",
       "4  41.37916    2.17535     Private room     40              30   \n",
       "\n",
       "   number_of_reviews last_review  reviews_per_month  \\\n",
       "0                 21  2019-11-01               0.22   \n",
       "1                  2  2017-11-06               0.04   \n",
       "2                 52  2019-12-15               0.43   \n",
       "3                 63  2020-02-22               0.54   \n",
       "4                  8  2013-07-15               0.06   \n",
       "\n",
       "   calculated_host_listings_count  availability_365  \n",
       "0                              19                80  \n",
       "1                               3                69  \n",
       "2                               2               326  \n",
       "3                               5                 0  \n",
       "4                               3                40  "
      ]
     },
     "execution_count": 3,
     "metadata": {},
     "output_type": "execute_result"
    }
   ],
   "source": [
    "#Tuodaan datasetti ja printataan datasetin viisi ensimmäistä riviä:\n",
    "\n",
    "import pandas as pd\n",
    "\n",
    "url = 'http://data.insideairbnb.com/spain/catalonia/barcelona/2021-02-09/visualisations/listings.csv'\n",
    "df = pd.read_csv(url)\n",
    "df.head()"
   ]
  },
  {
   "cell_type": "code",
   "execution_count": 4,
   "metadata": {},
   "outputs": [
    {
     "data": {
      "text/plain": [
       "True"
      ]
     },
     "execution_count": 4,
     "metadata": {},
     "output_type": "execute_result"
    }
   ],
   "source": [
    "#Tsekataan ovatko ID arvot uniikkeja:\n",
    "\n",
    "df['id'].is_unique"
   ]
  },
  {
   "cell_type": "code",
   "execution_count": 5,
   "metadata": {},
   "outputs": [
    {
     "data": {
      "text/plain": [
       "name                               object\n",
       "host_id                             int64\n",
       "host_name                          object\n",
       "neighbourhood_group                object\n",
       "neighbourhood                      object\n",
       "latitude                          float64\n",
       "longitude                         float64\n",
       "room_type                          object\n",
       "price                               int64\n",
       "minimum_nights                      int64\n",
       "number_of_reviews                   int64\n",
       "last_review                        object\n",
       "reviews_per_month                 float64\n",
       "calculated_host_listings_count      int64\n",
       "availability_365                    int64\n",
       "dtype: object"
      ]
     },
     "execution_count": 5,
     "metadata": {},
     "output_type": "execute_result"
    }
   ],
   "source": [
    "#Tehdään id-kolumnista indeksi\n",
    "\n",
    "df.set_index('id', inplace = True)\n",
    "\n",
    "#Tsekataan datatyypit mahdollista muokkausta varten\n",
    "df.dtypes"
   ]
  },
  {
   "cell_type": "markdown",
   "metadata": {},
   "source": [
    "Loppuun vielä viisi oivallusta/oppia:\n",
    "\n",
    "1. Datatieteilijän ei tarvitse pystyä puuttumaan dataintegraatioihin, tietovirtaan vaan ymmärtää millaista dataa tarvitaan tuottamaan arvoa. \n",
    "2. On erilaisia analytiikan lajeja johon soveltuvat eri menetelmät - on tärkeää osata määritellä ongelma oikein. \n",
    "3. Ryömijät ja raapijat voisivat olla helppo tapa hankkia käyttökelpoista dataa ilman valmista datasettiä. \n",
    "4. Pandas kirjastossa on melko suoraviivaisia ja helposti ymmärrettäviä komentoja datan käsittelyyn\n",
    "5. Jupyter on edelleen hyvä työkalu! \n",
    "\n",
    "\n",
    "Flippausvinkki: \n",
    "1. Materiaalia datan keräämiseen Some-alustoilta. Ei ole laittaa linkkiä mutta ideana varmasti montaa kiinnostava\n",
    "\n",
    "----------------------------------------------------"
   ]
  },
  {
   "cell_type": "markdown",
   "metadata": {},
   "source": [
    "##### Luentoviikko 3: Koneoppimisen periaatteet\n",
    "\n",
    "###### (En osallistunut opetukseen)"
   ]
  },
  {
   "cell_type": "markdown",
   "metadata": {},
   "source": [
    "Kolmannen luentoviikon aiheena oli koneoppiminen ja sen periaatteet. Koneoppiminen ja teköäly aiheina ovat tuttuja ja kyseiset ilmiöt ovat olleet läsnä vahvasti koko opiskeluaikani TTYssä. Kuitenkin hyvin vähän omissa opinnoissani on käytetty aikaa siihen mitä koneoppimisen hyödyntäminen on käytännössä ja mitkä ovat erilaiset teknologiat joiden avulla sitä voi hyödyntää. Vaikkakin ilmiö ja sen pääperiaatteet ovat itselleni tuttuja on se minulle osittain edelleen abstrakti vaikeasti ymmärrettävä aihe. Toivonkin että tämän kurssin ja luennon perusteella saan aiheeseen vielä enemmän kosketuspintaa käytännössä. \n",
    "\n",
    "Näen koneoppimisen tärkeimpänä hyötynä sen, että sillä voidaan löytää isosta määrästä dataa yhteyksiä ja säännönmukaisuuksia, joita ei muilla keinoin saada näkyväksi. Toinen tärkeä käyttötapa on Jukan blogitekstissäkin (https://rajapinta.co/2017/10/16/nain-laadullinen-tieto-jalostuu-laskennalliseksi-piirteet-sosiaalisen-median-analytiikassa/ ) mainittu mahdollisuus tehdä laadullisesta tiedosta määrällistä ja näin ollen mahdollistaa tarkempi analyysi ja vertailu. \n",
    "\n",
    "Itse näen että koneoppimisen hyödyntämiselle voisi olla paljonkin käyttötarkoituksia esimerkiksi yrityksessä jossa työskentelen. Sen avulla voisi esimerkiksi arvioida yrityksen tekemiä tekstimuotoisia asiakasvierailuraportteja ja tehdä niistä tunnesävyraporttia, joka toimisi apuna asiakastyytyväisyyden arvioinnissa. Toinen todella mielenkiintoinen omaankin työhöni liittyvä käyttötarkoitus voisi olla asiakaspoistuma-analyysi, jota on kuvattu Bilotin artikkelissa: (https://bilot.group/articles/asiakaspoistuma-analyysi-ja-miljoona-lisamyyntia/). Mielestäni asiakaspoistuman analyysi on hyvä esimerkki \"suoraviivaisesta\" koneoppimisen hyödyntämisestä mistä voisi olla paljon hyötyä, mutta silti sitä ei hyödynnetä paljoa yrityksissä kuten Bilotin artikkelista käy ilmi. Bilot mainitsee yhdeksi suureksi syyksi tähän tietämättömyyden tästä menetelmästä ja syvälle juurtuneet oletukset siitä että asiakaspoistumaa tapahtuu vain tietyistä syistä, joita ei tarvitse tarkemmin analysoida. \n",
    "\n",
    "Kun tarkastelee eri koneoppimisen algoritmejä (Supervised learning, Unsupervised learning, Semi-supervised learning, Reinforcement learning) esimerkiksi Proft.me artikkelista (https://en.proft.me/2015/12/24/types-machine-learning-algorithms/) on helpoin ymmärtää Supervised learning toimintaperiaate, jossa luokiteltua dataa käytetään opettamaan algoritmiä ja tämän jälkeen algoritmi osaa löytää yhteyksiä ja tuloksia kun sille syötetään uusi data. Tälle näen myös paljon käyttötarkoituksia - vrt. asiakaspoistuma-analyysi ja ennustaminen siitä ketkä asiakkaat voisivat olla seuraavaksi riskissä poistua. Unsupervised learning-metodit taas ovat vaikeampia käsittää, mutta on ymmärrettävää että sitä käytetään löytämään datalle selityksiä ja rakennetta tilanteissa joissa data ei ole luokiteltua. Käyttötarkoitus voisi olla esimerkiksi asiakkaiden jako eri segmentteihin. Tällaisessa tilanteessa siis ei ole valmiiksi mitään määriteltyjä segmenttejä joihin asiakkaat voitaisiin jakaa vaan algoritmi määrittelee asiakkaat sopiviin luokkiin. \n",
    "\n",
    "Seuraavana koodiesimerkkiä tällä viikolla opitusta:\n"
   ]
  },
  {
   "cell_type": "code",
   "execution_count": 15,
   "metadata": {},
   "outputs": [
    {
     "name": "stderr",
     "output_type": "stream",
     "text": [
      "[nltk_data] Downloading package punkt to\n",
      "[nltk_data]     C:\\Users\\OMISTAJA\\AppData\\Roaming\\nltk_data...\n",
      "[nltk_data]   Package punkt is already up-to-date!\n",
      "[nltk_data] Downloading package stopwords to\n",
      "[nltk_data]     C:\\Users\\OMISTAJA\\AppData\\Roaming\\nltk_data...\n",
      "[nltk_data]   Package stopwords is already up-to-date!\n",
      "[nltk_data] Downloading package averaged_perceptron_tagger to\n",
      "[nltk_data]     C:\\Users\\OMISTAJA\\AppData\\Roaming\\nltk_data...\n",
      "[nltk_data]   Package averaged_perceptron_tagger is already up-to-\n",
      "[nltk_data]       date!\n"
     ]
    }
   ],
   "source": [
    "import nltk\n",
    "nltk.download('punkt')\n",
    "nltk.download('stopwords')\n",
    "from nltk.probability import FreqDist\n",
    "import matplotlib.pyplot as plt\n",
    "nltk.download('averaged_perceptron_tagger')\n",
    "from nltk.tokenize import sent_tokenize\n"
   ]
  },
  {
   "cell_type": "code",
   "execution_count": 16,
   "metadata": {},
   "outputs": [
    {
     "data": {
      "text/plain": [
       "'Solid phone with solid specs as Nokias trademark for phones. Only issues I have is that software is buggy. 1) After adding my work profile, phone keeps restarting non stop. Clearly its a software glitch and Nokia customer care personnel could not give a solution. Her solution was asking me to uninstall all my apps until I dont face this issue which is unacceptable as my previous Motorola One Vision had no such issues from the start. I adjusted some battery optimization settings which assisted to mitigate the issue. 2) Mic operation when phone on speaker mode was inconsistent. Sometimes the listener was able to hear and sometimes not. I had to restart a few times and use the mic on top of the phone instead for speaker phone conversations. 3) Camera app kept crashing despite being able to work through other apps like WhatsApp. Only after restarting a few times it went back to normal. Nokia - please fix these issues ASAP in your next update. Specs are good but software experience has been buggy and troublesome for me. I considered sending the phone back for a refund, but I will use it for a while more and see how the performance will improve . Thank you'"
      ]
     },
     "execution_count": 16,
     "metadata": {},
     "output_type": "execute_result"
    }
   ],
   "source": [
    "esimerkkiarvio = \"Solid phone with solid specs as Nokias trademark for phones. Only issues I have is that software is buggy. 1) After adding my work profile, phone keeps restarting non stop. Clearly its a software glitch and Nokia customer care personnel could not give a solution. Her solution was asking me to uninstall all my apps until I dont face this issue which is unacceptable as my previous Motorola One Vision had no such issues from the start. I adjusted some battery optimization settings which assisted to mitigate the issue. 2) Mic operation when phone on speaker mode was inconsistent. Sometimes the listener was able to hear and sometimes not. I had to restart a few times and use the mic on top of the phone instead for speaker phone conversations. 3) Camera app kept crashing despite being able to work through other apps like WhatsApp. Only after restarting a few times it went back to normal. Nokia - please fix these issues ASAP in your next update. Specs are good but software experience has been buggy and troublesome for me. I considered sending the phone back for a refund, but I will use it for a while more and see how the performance will improve . Thank you\"\n",
    "esimerkkiarvio"
   ]
  },
  {
   "cell_type": "code",
   "execution_count": 17,
   "metadata": {},
   "outputs": [
    {
     "name": "stdout",
     "output_type": "stream",
     "text": [
      "['Solid', 'phone', 'with', 'solid', 'specs', 'as', 'Nokias', 'trademark', 'for', 'phones', '.', 'Only', 'issues', 'I', 'have', 'is', 'that', 'software', 'is', 'buggy', '.', '1', ')', 'After', 'adding', 'my', 'work', 'profile', ',', 'phone', 'keeps', 'restarting', 'non', 'stop', '.', 'Clearly', 'its', 'a', 'software', 'glitch', 'and', 'Nokia', 'customer', 'care', 'personnel', 'could', 'not', 'give', 'a', 'solution', '.', 'Her', 'solution', 'was', 'asking', 'me', 'to', 'uninstall', 'all', 'my', 'apps', 'until', 'I', 'dont', 'face', 'this', 'issue', 'which', 'is', 'unacceptable', 'as', 'my', 'previous', 'Motorola', 'One', 'Vision', 'had', 'no', 'such', 'issues', 'from', 'the', 'start', '.', 'I', 'adjusted', 'some', 'battery', 'optimization', 'settings', 'which', 'assisted', 'to', 'mitigate', 'the', 'issue', '.', '2', ')', 'Mic', 'operation', 'when', 'phone', 'on', 'speaker', 'mode', 'was', 'inconsistent', '.', 'Sometimes', 'the', 'listener', 'was', 'able', 'to', 'hear', 'and', 'sometimes', 'not', '.', 'I', 'had', 'to', 'restart', 'a', 'few', 'times', 'and', 'use', 'the', 'mic', 'on', 'top', 'of', 'the', 'phone', 'instead', 'for', 'speaker', 'phone', 'conversations', '.', '3', ')', 'Camera', 'app', 'kept', 'crashing', 'despite', 'being', 'able', 'to', 'work', 'through', 'other', 'apps', 'like', 'WhatsApp', '.', 'Only', 'after', 'restarting', 'a', 'few', 'times', 'it', 'went', 'back', 'to', 'normal', '.', 'Nokia', '-', 'please', 'fix', 'these', 'issues', 'ASAP', 'in', 'your', 'next', 'update', '.', 'Specs', 'are', 'good', 'but', 'software', 'experience', 'has', 'been', 'buggy', 'and', 'troublesome', 'for', 'me', '.', 'I', 'considered', 'sending', 'the', 'phone', 'back', 'for', 'a', 'refund', ',', 'but', 'I', 'will', 'use', 'it', 'for', 'a', 'while', 'more', 'and', 'see', 'how', 'the', 'performance', 'will', 'improve', '.', 'Thank', 'you']\n"
     ]
    }
   ],
   "source": [
    "#Tokenisoidaan sanat\n",
    "from nltk.tokenize import word_tokenize\n",
    "tokenArvio = word_tokenize(esimerkkiarvio)\n",
    "print (tokenArvio)"
   ]
  },
  {
   "cell_type": "code",
   "execution_count": 18,
   "metadata": {},
   "outputs": [
    {
     "name": "stdout",
     "output_type": "stream",
     "text": [
      "<WordListCorpusReader in 'C:\\\\Users\\\\OMISTAJA\\\\AppData\\\\Roaming\\\\nltk_data\\\\corpora\\\\stopwords'>\n"
     ]
    }
   ],
   "source": [
    "#Poistetaan hukkasanat\n",
    "from nltk.corpus import stopwords\n",
    "stopword=set(stopwords.words(\"english\"))\n",
    "print(stopwords)"
   ]
  },
  {
   "cell_type": "code",
   "execution_count": 19,
   "metadata": {},
   "outputs": [
    {
     "data": {
      "image/png": "[encoded data removed]",
      "text/plain": [
       "<Figure size 432x288 with 1 Axes>"
      ]
     },
     "metadata": {
      "needs_background": "light"
     },
     "output_type": "display_data"
    }
   ],
   "source": [
    "#Luodaan uusi muuttuja arvion sanoille ja printataan eri sanojen esiintyvyys \n",
    "cleanArvio=[]\n",
    "for w in tokenArvio:\n",
    "    if w not in stopword:\n",
    "        cleanArvio.append(w)\n",
    "cleanArvio=[sana.lower() for sana in cleanArvio if sana.isalpha()]\n",
    "fdist = FreqDist(cleanArvio)\n",
    "fdist.plot(30,cumulative=False)\n",
    "plt.show()"
   ]
  },
  {
   "cell_type": "markdown",
   "metadata": {},
   "source": [
    "Tällä viikolla opittua: \n",
    "\n",
    "1. Koneoppimisen valjastaminen käyttöön ei välttämättä vaadi suuria resursseja tai hurjaa osaamista\n",
    "2. Asiakaspoistuma-analyysi voisi olla arvokas ja helppo tapa aloittaa koneoppimisen parissa\n",
    "3. Piirteiden erottaminen on todella tärkeää koneoppimisen onnistumisen ja tulosten tarkkuuden parantamiseksi\n",
    "4. Jossain tilanteissa piirteitä ja ulottuvuuksia on tärkeä kasvattaa - liiketoiminnan tuottama data ei kovinkaan usein ole rikasta vaan rajoittuu ERP ominaisuuksiin\n",
    "5. On tärkeää aina pitää mielessä eri vinoutumat - etenkin supervised learning algoritmin kanssa työskennellessä ja dataa valitessa\n",
    "\n",
    "Kehitysehdotukset: \n",
    "1. Voisi olla hyödyllistä mennä yksityiskohtiin ja selittää tarkasti jokin valittu tekniikka (esim. mitä tarkoittaa KNeighbors Classifier) teoriassa. Tämä saattaisi auttaa ymmärtämään millaisia erilaiset tekniikat ovat ja missä laajuudessa ne toimivat.\n",
    "\n",
    "--------------------------------------------------------------------------"
   ]
  },
  {
   "cell_type": "markdown",
   "metadata": {},
   "source": [
    "#### Luentoviikko 4: Harjoitustyöhön tutustuminen\n",
    "\n",
    "###### En osallistunut opetukseen"
   ]
  },
  {
   "attachments": {},
   "cell_type": "markdown",
   "metadata": {},
   "source": [
    "Neljännen luentoviikon tarkoituksena oli antaa lisä-eväitä harjoitustyön tekemiseen. Luennolta saikin hyvin pohdiskelun aihetta varsinkin siihen, että onko harjoitustyöprosessi oikeanlainen ja vastaako harjoitustyön aihe johonkin oikeaan ongelmaan. \n",
    "\n",
    "Liiketoiminta-ongelmaa voi tarkastella esimerkiksi käyttämällä Jeff Pattonin esittelemää opportunity canvasta, joka tunnetaan myös lean canvaksena (alla). \n",
    "\n",
    "\n",
    "##### Image source: https://leanstack.com/rails/active_storage/blobs/redirect/eyJfcmFpbHMiOnsibWVzc2FnZSI6IkJBaHBBdm9xIiwiZXhwIjpudWxsLCJwdXIiOiJibG9iX2lkIn19--e54ce2e3cb4053d5fafb4aa7c4bb5543c9530b8f/lean-canvas.png\n",
    "\n",
    "![Image of opportunitycanvas](https://leanstack.com/rails/active_storage/blobs/redirect/eyJfcmFpbHMiOnsibWVzc2FnZSI6IkJBaHBBdm9xIiwiZXhwIjpudWxsLCJwdXIiOiJibG9iX2lkIn19--e54ce2e3cb4053d5fafb4aa7c4bb5543c9530b8f/lean-canvas.png)\n",
    "\n",
    "Tähän canvakseen olen tutustunut myös muilla palveluliiketoiminnan kursseilla, silloin onkin usein puhuttu lean canvaksesta. Jo silloin huomasin, että tuo on hyvä työkalu siihen, että määritellään onko kyse oikeasta ongelmasta mitä ratkaistaan ja onko ehdotetut toimenpiteet oikeasti ongelman ratkaisuun hyvät. Oman harjoitustyöni tapauksessa kuitenkin on rehellisesti todettava, että ratkaistava liiketoimintaongelma on hämärän peitossa. Tarkoitus on tutkia host-tietojen vaikutusta AirBnB listattujen asuntojen hintaan, mutta koska käytännön osaamiseni datatieteen teknologioista on melko rajoittunutta, joudun viilaamaan todennäköisesti \"tutkimusongelmaa\" osaamiseni mukaan. Yritän kuitenkin jäsentää harjoitustyövaiheet CRISP-DM mallin mukaisesti ja harjoitustyön raportointimalli kurssilla ohjaa myös luonnollisesti tähän. \n",
    "\n",
    "Itselleni tärkeä vaihe harjoitustyöhön liittyen on myös se että pystyn tiedostamaan mihin en voi vastata nykyisillä taidoilla tai datasetillä minkä valitsen. Eli pitää pohtia myös sitä, mitä ei harjoitustyöstä saada näkyväksi ja mitä se voisi vaatia. \n",
    "\n",
    "Mielestäni Susara van den Heever postauksessaan (https://web.archive.org/web/20201020003032/https://www.ibmbigdatahub.com/blog/top-3-ways-measure-success-your-analytics-investment) yksinkertaistaa hyvin sen, mikä on usein vaikeaa analytiikkaprojektin kohdalla: perustella ja mitata analytiikan hyödyt. Monen johtotehtävissä toimivan voi olla vaikea nähdä, mitkä ovat ne konkreettiset hyödyt joita analytiikkaan investoimalla voidaan saavuttaa. Van den Heever nostaa esiin erityisesti paremmat skenaariopohjaiset päätökset, nopeamman päätöksenteon ja päätösten \"kestävyyden\" koneoppimista ja skenaarioita hyödyntäen. Mielestäni yksi analytiikan esiin nostettava hyöty on se, että se tuo näkyväksi asioita mitä ei muuten näkisi tai havaitsisi. Näin voidaan purkaa tiettyjä ennakkoluuloja tai ajatuksia liiketoiminnasta. Tämä saadaan joskus aikaiseksi vain visualisoimalla dataa tarpeeksi tehokkaasti.\n",
    "\n",
    "Seuraavana tällä viikolla opittua. Erityisesti tärkeänä oppina tuli \"one hot\" koodaus pandasissa (ote harjoitustyöstäni raw-muodossa). \n"
   ]
  },
  {
   "cell_type": "code",
   "execution_count": 1,
   "metadata": {},
   "outputs": [
    {
     "ename": "NameError",
     "evalue": "name 'pd' is not defined",
     "output_type": "error",
     "traceback": [
      "\u001b[1;31m---------------------------------------------------------------------------\u001b[0m",
      "\u001b[1;31mNameError\u001b[0m                                 Traceback (most recent call last)",
      "\u001b[1;32m<ipython-input-1-f4c2ebd96abc>\u001b[0m in \u001b[0;36m<module>\u001b[1;34m\u001b[0m\n\u001b[0;32m      1\u001b[0m \u001b[1;31m#Koodataan dummies-kolumnit tietyistä arvoista\u001b[0m\u001b[1;33m\u001b[0m\u001b[1;33m\u001b[0m\u001b[1;33m\u001b[0m\u001b[0m\n\u001b[1;32m----> 2\u001b[1;33m \u001b[0mrt_dummies\u001b[0m \u001b[1;33m=\u001b[0m \u001b[0mpd\u001b[0m\u001b[1;33m.\u001b[0m\u001b[0mget_dummies\u001b[0m\u001b[1;33m(\u001b[0m\u001b[0mBCL_dataset\u001b[0m\u001b[1;33m.\u001b[0m\u001b[0mhost_response_time\u001b[0m\u001b[1;33m)\u001b[0m\u001b[1;33m\u001b[0m\u001b[1;33m\u001b[0m\u001b[0m\n\u001b[0m\u001b[0;32m      3\u001b[0m \u001b[0mpt_dummies\u001b[0m \u001b[1;33m=\u001b[0m \u001b[0mpd\u001b[0m\u001b[1;33m.\u001b[0m\u001b[0mget_dummies\u001b[0m\u001b[1;33m(\u001b[0m\u001b[0mBCL_dataset\u001b[0m\u001b[1;33m.\u001b[0m\u001b[0mroom_type\u001b[0m\u001b[1;33m)\u001b[0m\u001b[1;33m\u001b[0m\u001b[1;33m\u001b[0m\u001b[0m\n\u001b[0;32m      4\u001b[0m \u001b[0mn_dummies\u001b[0m \u001b[1;33m=\u001b[0m \u001b[0mpd\u001b[0m\u001b[1;33m.\u001b[0m\u001b[0mget_dummies\u001b[0m\u001b[1;33m(\u001b[0m\u001b[0mBCL_dataset\u001b[0m\u001b[1;33m.\u001b[0m\u001b[0mneighbourhood_cleansed\u001b[0m\u001b[1;33m)\u001b[0m\u001b[1;33m\u001b[0m\u001b[1;33m\u001b[0m\u001b[0m\n\u001b[0;32m      5\u001b[0m \u001b[1;33m\u001b[0m\u001b[0m\n",
      "\u001b[1;31mNameError\u001b[0m: name 'pd' is not defined"
     ]
    }
   ],
   "source": [
    "#Koodataan dummies-kolumnit tietyistä arvoista\n",
    "rt_dummies = pd.get_dummies(BCL_dataset.host_response_time)\n",
    "pt_dummies = pd.get_dummies(BCL_dataset.room_type)\n",
    "n_dummies = pd.get_dummies(BCL_dataset.neighbourhood_cleansed)\n",
    "\n",
    "new_data = pd.concat((BCL_dataset.drop(['host_response_time','room_type','neighbourhood_cleansed'], axis=1),\\\n",
    "                     rt_dummies.astype(int), pt_dummies.astype(int), n_dummies.astype(int)), axis=1)\n",
    "\n",
    "#huomattiin vielä että prosenttimerkin voisi poistaa host_response_rate arvoista ja muuttaa tuon desimaali-arvoksi.\n",
    "new_data['host_response_rate'] = new_data['host_response_rate'].replace('[\\%,)]','',\\\n",
    "                                                    regex=True).replace('[(]','-', regex=True).astype(float)\n",
    "new_data['host_response_rate'] = new_data['host_response_rate'] / 100\n"
   ]
  },
  {
   "cell_type": "markdown",
   "metadata": {},
   "source": [
    "Tällä viikolla opittua: \n",
    "\n",
    "1. One hot koodaus pandasissa\n",
    "2. Lean canvasta (ts. opportunity canvas) voi käyttää hyvin myös analytiikkaongelmien jäsentelyyn\n",
    "3. Vaikka hyödyt voi jakaa yksinkertaistettuna kolmeen kategoriaan (van den Heever), on silti vaikea erityisesti esittää analytiikan mahdolliset hyödyt rahallisessa muodossa --> tämä usein tärkeää varsinkin yritysjohdolle\n",
    "4. Tärkeää tiedostaa oma osaaminen ja erityisesti omat rajoitteet ja pohtia sitä miten ne vaikuttavat ratkaisun puutteellisuuteen\n",
    "5. Ajatus siitä korostui, että analytiikan lähtökohtana pitäisi olla yleensä jokin ratkaistava ongelma --> tämä poikii usein muita käyttötarkoituksia. \n",
    "\n",
    "Lisäksi vielä kehityskohde: \n",
    "\n",
    "- Voisiko luentotallenteen linkata luentorunkoon kurssin github-kotisivuille, vähentäisi sivuilta toiselle pomppimisen tarvetta. \n",
    "\n",
    "-------------------------------------------------------------\n"
   ]
  },
  {
   "cell_type": "markdown",
   "metadata": {},
   "source": [
    "#### Luentoviikko 5: Vierailuluento luonnollisen kielen analyysistä\n",
    "\n",
    "##### En osallistunut opetukseen"
   ]
  },
  {
   "cell_type": "code",
   "execution_count": null,
   "metadata": {},
   "outputs": [],
   "source": []
  }
 ],
 "metadata": {
  "kernelspec": {
   "display_name": "Python 3",
   "language": "python",
   "name": "python3"
  },
  "language_info": {
   "codemirror_mode": {
    "name": "ipython",
    "version": 3
   },
   "file_extension": ".py",
   "mimetype": "text/x-python",
   "name": "python",
   "nbconvert_exporter": "python",
   "pygments_lexer": "ipython3",
   "version": "3.8.5"
  }
 },
 "nbformat": 4,
 "nbformat_minor": 4
}
